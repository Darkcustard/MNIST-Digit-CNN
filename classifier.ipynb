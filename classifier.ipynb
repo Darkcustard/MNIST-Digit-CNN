{
 "cells": [
  {
   "cell_type": "code",
   "execution_count": 1,
   "id": "8e9d5f57",
   "metadata": {
    "scrolled": true
   },
   "outputs": [
    {
     "name": "stdout",
     "output_type": "stream",
     "text": [
      "loading test dataset...\n",
      "building model...\n"
     ]
    },
    {
     "name": "stderr",
     "output_type": "stream",
     "text": [
      "2022-08-19 12:31:40.564835: I tensorflow/stream_executor/cuda/cuda_gpu_executor.cc:975] successful NUMA node read from SysFS had negative value (-1), but there must be at least one NUMA node, so returning NUMA node zero\n",
      "2022-08-19 12:31:40.572089: I tensorflow/stream_executor/cuda/cuda_gpu_executor.cc:975] successful NUMA node read from SysFS had negative value (-1), but there must be at least one NUMA node, so returning NUMA node zero\n",
      "2022-08-19 12:31:40.572383: I tensorflow/stream_executor/cuda/cuda_gpu_executor.cc:975] successful NUMA node read from SysFS had negative value (-1), but there must be at least one NUMA node, so returning NUMA node zero\n",
      "2022-08-19 12:31:40.573289: I tensorflow/core/platform/cpu_feature_guard.cc:193] This TensorFlow binary is optimized with oneAPI Deep Neural Network Library (oneDNN) to use the following CPU instructions in performance-critical operations:  AVX2 FMA\n",
      "To enable them in other operations, rebuild TensorFlow with the appropriate compiler flags.\n",
      "2022-08-19 12:31:40.573653: I tensorflow/stream_executor/cuda/cuda_gpu_executor.cc:975] successful NUMA node read from SysFS had negative value (-1), but there must be at least one NUMA node, so returning NUMA node zero\n",
      "2022-08-19 12:31:40.573915: I tensorflow/stream_executor/cuda/cuda_gpu_executor.cc:975] successful NUMA node read from SysFS had negative value (-1), but there must be at least one NUMA node, so returning NUMA node zero\n",
      "2022-08-19 12:31:40.574142: I tensorflow/stream_executor/cuda/cuda_gpu_executor.cc:975] successful NUMA node read from SysFS had negative value (-1), but there must be at least one NUMA node, so returning NUMA node zero\n",
      "2022-08-19 12:31:41.022508: I tensorflow/stream_executor/cuda/cuda_gpu_executor.cc:975] successful NUMA node read from SysFS had negative value (-1), but there must be at least one NUMA node, so returning NUMA node zero\n",
      "2022-08-19 12:31:41.022710: I tensorflow/stream_executor/cuda/cuda_gpu_executor.cc:975] successful NUMA node read from SysFS had negative value (-1), but there must be at least one NUMA node, so returning NUMA node zero\n",
      "2022-08-19 12:31:41.022858: I tensorflow/stream_executor/cuda/cuda_gpu_executor.cc:975] successful NUMA node read from SysFS had negative value (-1), but there must be at least one NUMA node, so returning NUMA node zero\n",
      "2022-08-19 12:31:41.022977: I tensorflow/core/common_runtime/gpu/gpu_device.cc:1532] Created device /job:localhost/replica:0/task:0/device:GPU:0 with 1603 MB memory:  -> device: 0, name: NVIDIA GeForce GTX 1050, pci bus id: 0000:01:00.0, compute capability: 6.1\n",
      "2022-08-19 12:31:41.712721: I tensorflow/stream_executor/cuda/cuda_dnn.cc:384] Loaded cuDNN version 8100\n",
      "2022-08-19 12:31:42.380603: E tensorflow/stream_executor/dnn.cc:868] CUDNN_STATUS_EXECUTION_FAILED\n",
      "in tensorflow/stream_executor/cuda/cuda_dnn.cc(6162): 'cudnnPoolingBackward( cudnn.handle(), pooling_desc.handle(), &alpha, dest_desc.handle(), output_data.opaque(), dest_desc.handle(), input_diff_data.opaque(), src_desc.handle(), input_data.opaque(), &beta, src_desc.handle(), output_diff_data->opaque())'\n"
     ]
    },
    {
     "ename": "InternalError",
     "evalue": "dnn PoolBackward launch failed [Op:MaxPoolGrad]",
     "output_type": "error",
     "traceback": [
      "\u001b[0;31m---------------------------------------------------------------------------\u001b[0m",
      "\u001b[0;31mInternalError\u001b[0m                             Traceback (most recent call last)",
      "Input \u001b[0;32mIn [1]\u001b[0m, in \u001b[0;36m<cell line: 89>\u001b[0;34m()\u001b[0m\n\u001b[1;32m     86\u001b[0m (images_train, labels_train), (images_validate, labels_validate), (images_test, labels_test) \u001b[38;5;241m=\u001b[39m loadDataset()\n\u001b[1;32m     88\u001b[0m classifier \u001b[38;5;241m=\u001b[39m buildModel()\n\u001b[0;32m---> 89\u001b[0m \u001b[43mclassifier\u001b[49m\u001b[38;5;241;43m.\u001b[39;49m\u001b[43mfit\u001b[49m\u001b[43m(\u001b[49m\u001b[43mx\u001b[49m\u001b[38;5;241;43m=\u001b[39;49m\u001b[43mimages_train\u001b[49m\u001b[43m,\u001b[49m\u001b[43my\u001b[49m\u001b[38;5;241;43m=\u001b[39;49m\u001b[43mlabels_train\u001b[49m\u001b[43m,\u001b[49m\u001b[43mbatch_size\u001b[49m\u001b[43m \u001b[49m\u001b[38;5;241;43m=\u001b[39;49m\u001b[43m \u001b[49m\u001b[38;5;241;43m1\u001b[39;49m\u001b[43m,\u001b[49m\u001b[43mepochs\u001b[49m\u001b[38;5;241;43m=\u001b[39;49m\u001b[38;5;241;43m1\u001b[39;49m\u001b[43m,\u001b[49m\u001b[43mverbose\u001b[49m\u001b[38;5;241;43m=\u001b[39;49m\u001b[38;5;124;43m\"\u001b[39;49m\u001b[38;5;124;43mauto\u001b[39;49m\u001b[38;5;124;43m\"\u001b[39;49m\u001b[43m,\u001b[49m\u001b[43mshuffle\u001b[49m\u001b[38;5;241;43m=\u001b[39;49m\u001b[38;5;28;43;01mTrue\u001b[39;49;00m\u001b[43m)\u001b[49m\n\u001b[1;32m     92\u001b[0m \u001b[38;5;28mprint\u001b[39m(\u001b[38;5;124m\"\u001b[39m\u001b[38;5;124mvalidate...\u001b[39m\u001b[38;5;124m\"\u001b[39m)\n\u001b[1;32m     93\u001b[0m classifier\u001b[38;5;241m.\u001b[39mevaluate(x\u001b[38;5;241m=\u001b[39mimages_validate,y\u001b[38;5;241m=\u001b[39mlabels_validate)\n",
      "File \u001b[0;32m~/miniconda3/envs/tf/lib/python3.9/site-packages/keras/utils/traceback_utils.py:67\u001b[0m, in \u001b[0;36mfilter_traceback.<locals>.error_handler\u001b[0;34m(*args, **kwargs)\u001b[0m\n\u001b[1;32m     65\u001b[0m \u001b[38;5;28;01mexcept\u001b[39;00m \u001b[38;5;167;01mException\u001b[39;00m \u001b[38;5;28;01mas\u001b[39;00m e:  \u001b[38;5;66;03m# pylint: disable=broad-except\u001b[39;00m\n\u001b[1;32m     66\u001b[0m   filtered_tb \u001b[38;5;241m=\u001b[39m _process_traceback_frames(e\u001b[38;5;241m.\u001b[39m__traceback__)\n\u001b[0;32m---> 67\u001b[0m   \u001b[38;5;28;01mraise\u001b[39;00m e\u001b[38;5;241m.\u001b[39mwith_traceback(filtered_tb) \u001b[38;5;28;01mfrom\u001b[39;00m \u001b[38;5;28mNone\u001b[39m\n\u001b[1;32m     68\u001b[0m \u001b[38;5;28;01mfinally\u001b[39;00m:\n\u001b[1;32m     69\u001b[0m   \u001b[38;5;28;01mdel\u001b[39;00m filtered_tb\n",
      "File \u001b[0;32m~/miniconda3/envs/tf/lib/python3.9/site-packages/tensorflow/python/framework/ops.py:7164\u001b[0m, in \u001b[0;36mraise_from_not_ok_status\u001b[0;34m(e, name)\u001b[0m\n\u001b[1;32m   7162\u001b[0m \u001b[38;5;28;01mdef\u001b[39;00m \u001b[38;5;21mraise_from_not_ok_status\u001b[39m(e, name):\n\u001b[1;32m   7163\u001b[0m   e\u001b[38;5;241m.\u001b[39mmessage \u001b[38;5;241m+\u001b[39m\u001b[38;5;241m=\u001b[39m (\u001b[38;5;124m\"\u001b[39m\u001b[38;5;124m name: \u001b[39m\u001b[38;5;124m\"\u001b[39m \u001b[38;5;241m+\u001b[39m name \u001b[38;5;28;01mif\u001b[39;00m name \u001b[38;5;129;01mis\u001b[39;00m \u001b[38;5;129;01mnot\u001b[39;00m \u001b[38;5;28;01mNone\u001b[39;00m \u001b[38;5;28;01melse\u001b[39;00m \u001b[38;5;124m\"\u001b[39m\u001b[38;5;124m\"\u001b[39m)\n\u001b[0;32m-> 7164\u001b[0m   \u001b[38;5;28;01mraise\u001b[39;00m core\u001b[38;5;241m.\u001b[39m_status_to_exception(e) \u001b[38;5;28;01mfrom\u001b[39;00m \u001b[38;5;28mNone\u001b[39m\n",
      "\u001b[0;31mInternalError\u001b[0m: dnn PoolBackward launch failed [Op:MaxPoolGrad]"
     ]
    }
   ],
   "source": [
    "from keras.models import Sequential, load_model\n",
    "from keras.layers import *\n",
    "from keras import metrics\n",
    "from keras.datasets import mnist\n",
    "\n",
    "import numpy as np\n",
    "\n",
    "\n",
    "\n",
    "def encodeNum(x):\n",
    "    \n",
    "    template = [0,0,0,0,0,0,0,0,0,0]\n",
    "    template[x] = 1\n",
    "    return template\n",
    "    \n",
    "def decodeNum(x):\n",
    "    \n",
    "    return x.index(max(x))\n",
    "    \n",
    "def loadDataset():\n",
    "    \n",
    "    \n",
    "    print('loading test dataset...')\n",
    "    (XT, YT), (XV, YV) = mnist.load_data()\n",
    "    \n",
    "    X_validate, X_test = np.split(XV,2)\n",
    "    Y_validate_raw, Y_test_raw = np.split(YV,2)\n",
    "    \n",
    "    \n",
    "    Y_train = []\n",
    "    Y_validate = []\n",
    "    Y_test = []\n",
    "    \n",
    "\n",
    "    for unencoded_label in YT:\n",
    "        encodedNum = encodeNum(unencoded_label)\n",
    "        Y_train.append(encodedNum)\n",
    "        \n",
    "\n",
    "    for unencoded_label in Y_validate_raw:\n",
    "        encodedNum = encodeNum(unencoded_label)\n",
    "        Y_validate.append(encodedNum) \n",
    "\n",
    "\n",
    "    for unencoded_label in Y_test_raw:\n",
    "        encodedNum = encodeNum(unencoded_label)\n",
    "        Y_test.append(encodedNum)\n",
    "        \n",
    "    return ((np.ceil(XT/255),np.array(Y_train)),(np.ceil(X_validate/255),np.array(Y_validate)),(np.ceil(X_test/255),np.array(Y_test)))\n",
    "    \n",
    "\n",
    "\n",
    "def buildModel():\n",
    "    #define model\n",
    "    print('building model...')\n",
    "    \n",
    "    classifier = Sequential()\n",
    "\n",
    "    #input\n",
    "    classifier.add(Input(shape=(28,28,1)))\n",
    "\n",
    "    #hidden\n",
    "    classifier.add(Conv2D(32,(3,3),padding=\"same\"))\n",
    "    classifier.add(MaxPooling2D(pool_size=(2,2),padding=\"same\"))\n",
    "    classifier.add(Dropout(0.1))\n",
    "    \n",
    "    classifier.add(Conv2D(32,(3,3),padding=\"same\"))\n",
    "    classifier.add(MaxPooling2D(pool_size=(2,2),padding=\"same\"))\n",
    "    \n",
    "    classifier.add(Flatten())\n",
    "    \n",
    "    classifier.add(Dense(72,activation=\"relu\"))\n",
    "    classifier.add(Dense(36,activation=\"relu\"))\n",
    "\n",
    "    #output\n",
    "    classifier.add(Dense(10, activation=\"softmax\"))\n",
    "    \n",
    "    \n",
    "    #compile\n",
    "    classifier.compile(loss = 'binary_crossentropy', run_eagerly=True ,optimizer = 'adam', metrics=[metrics.CategoricalAccuracy()])\n",
    "    \n",
    "    return classifier\n",
    "\n",
    "\n",
    "\n",
    "(images_train, labels_train), (images_validate, labels_validate), (images_test, labels_test) = loadDataset()\n",
    "\n",
    "classifier = buildModel()\n",
    "classifier.fit(x=images_train,y=labels_train,batch_size = 1,epochs=1,verbose=\"auto\",shuffle=True)\n",
    "\n",
    "\n",
    "print(\"validate...\")\n",
    "classifier.evaluate(x=images_validate,y=labels_validate)\n",
    "\n",
    "print(\"test...\")\n",
    "classifier.evaluate(x=images_test,y=labels_test)\n",
    "\n",
    "classifier.save('classifier.ai')\n"
   ]
  },
  {
   "cell_type": "code",
   "execution_count": 6,
   "id": "7a896e74",
   "metadata": {},
   "outputs": [
    {
     "data": {
      "text/plain": [
       "<matplotlib.image.AxesImage at 0x7fe25604dac0>"
      ]
     },
     "execution_count": 6,
     "metadata": {},
     "output_type": "execute_result"
    },
    {
     "data": {
      "image/png": "[encoded data removed]",
      "text/plain": [
       "<Figure size 432x288 with 1 Axes>"
      ]
     },
     "metadata": {
      "needs_background": "light"
     },
     "output_type": "display_data"
    }
   ],
   "source": [
    "\n",
    "from keras.datasets import mnist\n",
    "from matplotlib import pyplot as plt\n",
    "import numpy as np\n",
    "\n",
    "(XT, YT), (XV, YV) = mnist.load_data()\n",
    "\n",
    "\n",
    "plt.imshow(np.round(XT[0]),cmap=\"gray\")\n"
   ]
  },
  {
   "cell_type": "code",
   "execution_count": null,
   "id": "79ca729c",
   "metadata": {},
   "outputs": [],
   "source": []
  },
  {
   "cell_type": "code",
   "execution_count": null,
   "id": "f0a40628",
   "metadata": {},
   "outputs": [],
   "source": []
  }
 ],
 "metadata": {
  "kernelspec": {
   "display_name": "Python 3 (ipykernel)",
   "language": "python",
   "name": "python3"
  },
  "language_info": {
   "codemirror_mode": {
    "name": "ipython",
    "version": 3
   },
   "file_extension": ".py",
   "mimetype": "text/x-python",
   "name": "python",
   "nbconvert_exporter": "python",
   "pygments_lexer": "ipython3",
   "version": "3.9.12"
  }
 },
 "nbformat": 4,
 "nbformat_minor": 5
}
